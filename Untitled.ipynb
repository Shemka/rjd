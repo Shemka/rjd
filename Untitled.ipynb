{
 "cells": [
  {
   "cell_type": "code",
   "execution_count": 1,
   "metadata": {},
   "outputs": [],
   "source": [
    "from pdf2cols import pdf2npcols\n",
    "import matplotlib.pyplot as plt\n",
    "from PIL import Image\n",
    "from numdetect import col2nums"
   ]
  },
  {
   "cell_type": "code",
   "execution_count": 2,
   "metadata": {},
   "outputs": [],
   "source": [
    "cols = pdf2npcols()"
   ]
  },
  {
   "cell_type": "code",
   "execution_count": 17,
   "metadata": {},
   "outputs": [],
   "source": [
    "img = cols[1]"
   ]
  },
  {
   "cell_type": "code",
   "execution_count": 18,
   "metadata": {},
   "outputs": [
    {
     "data": {
      "image/png": "[encoded data removed]",
      "text/plain": [
       "<PIL.Image.Image image mode=L size=54x1969 at 0x7F697A451630>"
      ]
     },
     "execution_count": 18,
     "metadata": {},
     "output_type": "execute_result"
    }
   ],
   "source": [
    "Image.fromarray(img)"
   ]
  },
  {
   "cell_type": "code",
   "execution_count": 26,
   "metadata": {},
   "outputs": [],
   "source": [
    "# responsible for pdf processing\n",
    "from PIL import Image, ImageDraw\n",
    "import numpy as np\n",
    "\n",
    "letter = [];\n",
    "letter=[\n",
    "    Image.open(r\"letter/P.png\"),\n",
    "    Image.open(r\"letter/PRL.png\"),\n",
    "    Image.open(r\"letter/PRP.png\"),\n",
    "    Image.open(r\"letter/R.png\"),\n",
    "    Image.open(r\"letter/U.png\"),\n",
    "    Image.open(r\"letter/USH.png\")\n",
    "]\n",
    "dictionary = {\n",
    "    0:'П',\n",
    "    1:'Пр.л',\n",
    "    2:'Пр.п',\n",
    "    3:'Р',\n",
    "    4:'У',\n",
    "    5:'Уш'\n",
    "}\n",
    "\n",
    "def find_element(left_shift=-11,right_shift=0, pal=None, i=0, w=0, h=0):\n",
    "    '''returns detected number or None'''\n",
    "    all_max_index = 0\n",
    "    all_max_ans = 0\n",
    "    #print(pal[i:i + 18 , w+left_shift:w +right_shift])\n",
    "    for w_m in range(-6, 0):\n",
    "        max = 0\n",
    "        max_ans = 0\n",
    "        for j in range(6):\n",
    "            letters = np.array(letter[j].convert('L')) * 1\n",
    "            letters = (letters == 0) * 1\n",
    "            pred = (pal[i + w_m:i + 18 + w_m, 0:w+1] == letters).sum() / (18 * w)\n",
    "            if (pred >= max):\n",
    "                max = pred\n",
    "                max_ans = j\n",
    "        if (max > all_max_ans):\n",
    "            all_max_ans = max\n",
    "            all_max_index = max_ans\n",
    "            #print(all_max_index, all_max_ans)\n",
    "\n",
    "    if(all_max_ans==0):\n",
    "        return (None)\n",
    "    else:\n",
    "        return(all_max_index)\n",
    "\n",
    "\n",
    "def col2lets(pal, flag_3=False, flag_0=False, flag_2=False):\n",
    "    '''detect all numbers in column and return them as numpy array'''\n",
    "\n",
    "    w = pal.shape[1]-1\n",
    "    h = pal.shape[0]-1\n",
    "\n",
    "    pal = (pal == 0)*1\n",
    "    i = 0\n",
    "    all_count = []\n",
    "    while i<(h-17):\n",
    "        if pal[i][8] == 1 and not(np.array_equal(pal[i],[i for count_one in range(54)])):\n",
    "            find_element_letter = find_element(pal=pal, i=i, h=h, w=w)\n",
    "            all_count.append(dictionary[find_element_letter])\n",
    "            i+=18\n",
    "#             a = input()\n",
    "        else:\n",
    "            i+=1\n",
    "    print(all_count)\n",
    "    return np.array(all_count)\n"
   ]
  },
  {
   "cell_type": "code",
   "execution_count": 27,
   "metadata": {},
   "outputs": [
    {
     "name": "stdout",
     "output_type": "stream",
     "text": [
      "['Уш', 'Пр.л', 'П', 'Р', 'Р', 'П', 'П', 'У', 'П', 'Уш', 'Уш', 'П', 'П', 'П', 'Пр.л', 'Уш', 'Уш', 'Уш', 'Уш', 'Уш', 'Уш', 'Уш', 'Уш', 'Уш', 'П', 'Уш', 'Уш', 'Уш', 'Уш', 'Уш', 'Р', 'У', 'Уш', 'Уш', 'Уш', 'Уш']\n"
     ]
    },
    {
     "data": {
      "text/plain": [
       "array(['Уш', 'Пр.л', 'П', 'Р', 'Р', 'П', 'П', 'У', 'П', 'Уш', 'Уш', 'П',\n",
       "       'П', 'П', 'Пр.л', 'Уш', 'Уш', 'Уш', 'Уш', 'Уш', 'Уш', 'Уш', 'Уш',\n",
       "       'Уш', 'П', 'Уш', 'Уш', 'Уш', 'Уш', 'Уш', 'Р', 'У', 'Уш', 'Уш',\n",
       "       'Уш', 'Уш'], dtype='<U4')"
      ]
     },
     "execution_count": 27,
     "metadata": {},
     "output_type": "execute_result"
    }
   ],
   "source": [
    "col2lets(img)"
   ]
  },
  {
   "cell_type": "code",
   "execution_count": null,
   "metadata": {},
   "outputs": [],
   "source": [
    "len([2, 2, 2, 2, 2, 2, 2, 2, 2, 2, 2, 2, 2, 2, 2, 2, 2, 2, 2, 2, 2, 2,\n",
    "       2, 2, 2, 2, 2, 2, 2, 2, 2, 2])"
   ]
  }
 ],
 "metadata": {
  "kernelspec": {
   "display_name": "Python 3",
   "language": "python",
   "name": "python3"
  },
  "language_info": {
   "codemirror_mode": {
    "name": "ipython",
    "version": 3
   },
   "file_extension": ".py",
   "mimetype": "text/x-python",
   "name": "python",
   "nbconvert_exporter": "python",
   "pygments_lexer": "ipython3",
   "version": "3.7.4"
  }
 },
 "nbformat": 4,
 "nbformat_minor": 2
}
